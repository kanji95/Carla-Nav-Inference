{
 "cells": [
  {
   "cell_type": "code",
   "execution_count": 3,
   "id": "f4d1cd9a",
   "metadata": {},
   "outputs": [],
   "source": [
    "import os \n",
    "\n",
    "from data_cleaner import CarlaFullDataset\n",
    "\n",
    "from IPython.display import Video\n",
    "\n",
    "import ffmpeg"
   ]
  },
  {
   "cell_type": "code",
   "execution_count": 4,
   "id": "82487a63",
   "metadata": {},
   "outputs": [],
   "source": [
    "dataset = CarlaFullDataset(\n",
    "    \"/ssd_scratch/cvit/kanishk/carla_data\",\n",
    "    \"/ssd_scratch/cvit/kanishk/glove\",\n",
    "    \"train\",\n",
    ")"
   ]
  },
  {
   "cell_type": "code",
   "execution_count": 6,
   "id": "75792823",
   "metadata": {},
   "outputs": [
    {
     "name": "stdout",
     "output_type": "stream",
     "text": [
      "109 140 166 172 177 195 214 216 222 230 27 30 54 82 \n",
      "['109', '140', '166', '172', '177', '195', '214', '216', '222', '230', '27', '30', '54', '82'] 14\n"
     ]
    }
   ],
   "source": [
    "ignore_episodes = []\n",
    "for episode in dataset.episodes:\n",
    "    ret = dataset.get_data(episode)\n",
    "    if ret.isnumeric():\n",
    "        ignore_episodes.append(ret)\n",
    "print()\n",
    "print(ignore_episodes, len(ignore_episodes))"
   ]
  },
  {
   "cell_type": "code",
   "execution_count": 10,
   "id": "e89a6bca",
   "metadata": {
    "scrolled": true
   },
   "outputs": [
    {
     "data": {
      "text/plain": [
       "''"
      ]
     },
     "execution_count": 10,
     "metadata": {},
     "output_type": "execute_result"
    }
   ],
   "source": [
    "episode = '145'\n",
    "dataset.get_data(episode)"
   ]
  },
  {
   "cell_type": "code",
   "execution_count": 11,
   "id": "8209b48f",
   "metadata": {},
   "outputs": [
    {
     "name": "stderr",
     "output_type": "stream",
     "text": [
      "ffmpeg version 2.8.15-0ubuntu0.16.04.1 Copyright (c) 2000-2018 the FFmpeg developers\n",
      "  built with gcc 5.4.0 (Ubuntu 5.4.0-6ubuntu1~16.04.10) 20160609\n",
      "  configuration: --prefix=/usr --extra-version=0ubuntu0.16.04.1 --build-suffix=-ffmpeg --toolchain=hardened --libdir=/usr/lib/x86_64-linux-gnu --incdir=/usr/include/x86_64-linux-gnu --cc=cc --cxx=g++ --enable-gpl --enable-shared --disable-stripping --disable-decoder=libopenjpeg --disable-decoder=libschroedinger --enable-avresample --enable-avisynth --enable-gnutls --enable-ladspa --enable-libass --enable-libbluray --enable-libbs2b --enable-libcaca --enable-libcdio --enable-libflite --enable-libfontconfig --enable-libfreetype --enable-libfribidi --enable-libgme --enable-libgsm --enable-libmodplug --enable-libmp3lame --enable-libopenjpeg --enable-libopus --enable-libpulse --enable-librtmp --enable-libschroedinger --enable-libshine --enable-libsnappy --enable-libsoxr --enable-libspeex --enable-libssh --enable-libtheora --enable-libtwolame --enable-libvorbis --enable-libvpx --enable-libwavpack --enable-libwebp --enable-libx265 --enable-libxvid --enable-libzvbi --enable-openal --enable-opengl --enable-x11grab --enable-libdc1394 --enable-libiec61883 --enable-libzmq --enable-frei0r --enable-libx264 --enable-libopencv\n",
      "  libavutil      54. 31.100 / 54. 31.100\n",
      "  libavcodec     56. 60.100 / 56. 60.100\n",
      "  libavformat    56. 40.101 / 56. 40.101\n",
      "  libavdevice    56.  4.100 / 56.  4.100\n",
      "  libavfilter     5. 40.101 /  5. 40.101\n",
      "  libavresample   2.  1.  0 /  2.  1.  0\n",
      "  libswscale      3.  1.101 /  3.  1.101\n",
      "  libswresample   1.  2.101 /  1.  2.101\n",
      "  libpostproc    53.  3.100 / 53.  3.100\n",
      "Input #0, image2, from '/ssd_scratch/cvit/kanishk/carla_data/train/145/images/*.png':\n",
      "  Duration: 00:00:08.00, start: 0.000000, bitrate: N/A\n",
      "    Stream #0:0: Video: png, rgba(pc), 1280x720, 25 fps, 25 tbr, 25 tbn, 25 tbc\n",
      "No pixel format specified, yuv444p for H.264 encoding chosen.\n",
      "Use -pix_fmt yuv420p for compatibility with outdated media players.\n",
      "[libx264 @ 0xffa000] using cpu capabilities: MMX2 SSE2Fast SSSE3 SSE4.2 AVX FMA3 AVX2 LZCNT BMI2\n",
      "[libx264 @ 0xffa000] profile High 4:4:4 Predictive, level 3.1, 4:4:4 8-bit\n",
      "[libx264 @ 0xffa000] 264 - core 148 r2643 5c65704 - H.264/MPEG-4 AVC codec - Copyleft 2003-2015 - http://www.videolan.org/x264.html - options: cabac=1 ref=3 deblock=1:0:0 analyse=0x3:0x113 me=hex subme=7 psy=1 psy_rd=1.00:0.00 mixed_ref=1 me_range=16 chroma_me=1 trellis=1 8x8dct=1 cqm=0 deadzone=21,11 fast_pskip=1 chroma_qp_offset=4 threads=22 lookahead_threads=3 sliced_threads=0 nr=0 decimate=1 interlaced=0 bluray_compat=0 constrained_intra=0 bframes=3 b_pyramid=2 b_adapt=1 b_bias=0 direct=1 weightb=1 open_gop=0 weightp=2 keyint=250 keyint_min=25 scenecut=40 intra_refresh=0 rc_lookahead=40 rc=crf mbtree=1 crf=23.0 qcomp=0.60 qpmin=0 qpmax=69 qpstep=4 ip_ratio=1.40 aq=1:1.00\n",
      "Output #0, mp4, to 'movie_145.mp4':\n",
      "  Metadata:\n",
      "    encoder         : Lavf56.40.101\n",
      "    Stream #0:0: Video: h264 (libx264) ([33][0][0][0] / 0x0021), yuv444p, 1280x720, q=-1--1, 25 fps, 12800 tbn, 25 tbc\n",
      "    Metadata:\n",
      "      encoder         : Lavc56.60.100 libx264\n",
      "Stream mapping:\n",
      "  Stream #0:0 -> #0:0 (png (native) -> h264 (libx264))\n",
      "Press [q] to stop, [?] for help\n",
      "frame=  200 fps= 42 q=-1.0 Lsize=    2491kB time=00:00:07.92 bitrate=2576.8kbits/s    \n",
      "video:2489kB audio:0kB subtitle:0kB other streams:0kB global headers:0kB muxing overhead: 0.100608%\n",
      "[libx264 @ 0xffa000] frame I:1     Avg QP:22.05  size: 69401\n",
      "[libx264 @ 0xffa000] frame P:145   Avg QP:24.61  size: 15716\n",
      "[libx264 @ 0xffa000] frame B:54    Avg QP:27.21  size:  3696\n",
      "[libx264 @ 0xffa000] consecutive B-frames: 53.5% 29.0%  7.5% 10.0%\n",
      "[libx264 @ 0xffa000] mb I  I16..4: 18.1% 49.3% 32.7%\n",
      "[libx264 @ 0xffa000] mb P  I16..4:  0.9%  3.3%  0.7%  P16..4: 45.0% 16.4%  8.3%  0.0%  0.0%    skip:25.4%\n",
      "[libx264 @ 0xffa000] mb B  I16..4:  0.0%  0.2%  0.0%  B16..8: 42.5%  3.3%  0.5%  direct: 0.7%  skip:52.7%  L0:36.6% L1:60.0% BI: 3.4%\n",
      "[libx264 @ 0xffa000] 8x8 transform intra:65.2% inter:74.1%\n",
      "[libx264 @ 0xffa000] coded y,u,v intra: 63.7% 16.8% 10.5% inter: 20.6% 2.9% 1.6%\n",
      "[libx264 @ 0xffa000] i16 v,h,dc,p: 17% 44%  7% 32%\n",
      "[libx264 @ 0xffa000] i8 v,h,dc,ddl,ddr,vr,hd,vl,hu: 10% 18% 23%  6% 10%  6% 11%  5% 10%\n",
      "[libx264 @ 0xffa000] i4 v,h,dc,ddl,ddr,vr,hd,vl,hu: 17% 28% 18%  4%  8%  4% 11%  3%  7%\n",
      "[libx264 @ 0xffa000] Weighted P-Frames: Y:0.7% UV:0.0%\n",
      "[libx264 @ 0xffa000] ref P L0: 54.1% 28.7% 11.1%  6.1%  0.0%\n",
      "[libx264 @ 0xffa000] ref B L0: 87.2% 12.0%  0.8%\n",
      "[libx264 @ 0xffa000] ref B L1: 97.5%  2.5%\n",
      "[libx264 @ 0xffa000] kb/s:2547.82\n"
     ]
    },
    {
     "data": {
      "text/html": [
       "<video src=\"movie_145.mp4\" controls  >\n",
       "      Your browser does not support the <code>video</code> element.\n",
       "    </video>"
      ],
      "text/plain": [
       "<IPython.core.display.Video object>"
      ]
     },
     "execution_count": 11,
     "metadata": {},
     "output_type": "execute_result"
    }
   ],
   "source": [
    "try:\n",
    "    os.remove(f\"movie_{episode}.mp4\")\n",
    "except:\n",
    "    pass\n",
    "\n",
    "ffmpeg.input(\n",
    "    f\"/ssd_scratch/cvit/kanishk/carla_data/train/{episode}/images/*.png\",\n",
    "    pattern_type=\"glob\",\n",
    "    framerate=25,\n",
    ").output(f\"movie_{episode}.mp4\").run()\n",
    "\n",
    "\n",
    "Video(f\"movie_{episode}.mp4\")\n",
    "\n",
    "# os.remove(\"movie.mp4\")"
   ]
  },
  {
   "cell_type": "code",
   "execution_count": 9,
   "id": "44f14950",
   "metadata": {},
   "outputs": [],
   "source": [
    "os.remove(f\"movie_{episode}.mp4\")"
   ]
  },
  {
   "cell_type": "code",
   "execution_count": null,
   "id": "3d0f88ec",
   "metadata": {},
   "outputs": [],
   "source": []
  },
  {
   "cell_type": "code",
   "execution_count": null,
   "id": "a767bc1c",
   "metadata": {},
   "outputs": [],
   "source": []
  }
 ],
 "metadata": {
  "kernelspec": {
   "display_name": "Python 3",
   "language": "python",
   "name": "python3"
  },
  "language_info": {
   "codemirror_mode": {
    "name": "ipython",
    "version": 3
   },
   "file_extension": ".py",
   "mimetype": "text/x-python",
   "name": "python",
   "nbconvert_exporter": "python",
   "pygments_lexer": "ipython3",
   "version": "3.8.5"
  }
 },
 "nbformat": 4,
 "nbformat_minor": 5
}
