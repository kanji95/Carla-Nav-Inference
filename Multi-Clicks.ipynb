{
 "cells": [
  {
   "cell_type": "code",
   "execution_count": 1,
   "metadata": {},
   "outputs": [],
   "source": [
    "import os\n",
    "import numpy as np\n",
    "import cv2\n",
    "from matplotlib import pyplot as plt\n",
    "import pandas as pd"
   ]
  },
  {
   "cell_type": "code",
   "execution_count": 2,
   "metadata": {},
   "outputs": [],
   "source": [
    "train_data_path = '/ssd_scratch/cvit/varunc/carla_data/train/'\n",
    "val_data_path = '/ssd_scratch/cvit/varunc/carla_data/val/'"
   ]
  },
  {
   "cell_type": "code",
   "execution_count": 32,
   "metadata": {},
   "outputs": [],
   "source": [
    "def get_file_lists(data_path):\n",
    "    episodes = os.listdir(data_path)\n",
    "    episodes = [ x for x in episodes if os.path.isdir(os.path.join(data_path,x))]\n",
    "    counts = dict()\n",
    "    for episode in episodes:\n",
    "        episode = str(episode)\n",
    "        filename = os.path.join(data_path,episode,'target_positions.txt')\n",
    "        a = np.unique(pd.read_csv(filename,header=None).to_numpy(),axis=0)\n",
    "        if a.shape[0] in counts.keys():\n",
    "            counts[a.shape[0]].append(int(episode))\n",
    "        else:\n",
    "            counts[a.shape[0]] = [int(episode)]\n",
    "    return counts,episodes"
   ]
  },
  {
   "cell_type": "code",
   "execution_count": 23,
   "metadata": {},
   "outputs": [],
   "source": [
    "train_dict,t_ep = get_file_lists(train_data_path)"
   ]
  },
  {
   "cell_type": "code",
   "execution_count": 24,
   "metadata": {},
   "outputs": [
    {
     "name": "stdout",
     "output_type": "stream",
     "text": [
      "{2: [387, 77, 404, 101, 98, 352, 95, 396, 420, 305, 23, 210, 363, 205, 40, 412, 432, 360, 259, 19, 394, 340, 344, 111, 407, 438, 79, 151, 108, 230, 56, 69, 35, 44, 97, 12, 417, 428, 217, 203, 110, 81, 29, 5, 14, 365, 393, 280, 414, 282, 223, 289, 72, 31, 57, 410, 293, 139, 114, 341, 170, 197, 266, 2, 39, 427, 92, 161, 330, 58, 164, 36, 47, 355, 32, 227, 288, 26, 22, 82, 416, 425, 178, 3, 37, 222, 107, 424, 267, 243, 6, 0, 351, 71, 381, 391, 175, 8, 297, 168, 214, 41, 338, 54, 202, 386, 364, 339, 94, 49, 20, 150, 64, 370, 235, 285, 435, 68, 16, 426, 25, 177, 185, 4, 46, 294, 229, 300, 60, 431], 14: [160], 1: [9, 159, 401, 74, 163, 247, 261, 144, 310, 403, 319, 287, 80, 402, 145, 347, 180, 276, 382, 62, 429, 65, 51, 240, 89, 61, 313, 33, 166, 328, 265, 93, 100, 320, 63, 50, 106, 376, 86, 383, 112, 53, 115, 76, 174, 105, 271, 147, 232, 406, 308, 312, 87, 354, 397, 295, 325, 220, 231, 430, 59, 118, 260, 357, 256, 27, 194, 132, 188, 225, 292, 11, 264, 342, 15, 273, 324, 277, 234, 157, 198, 356, 253, 165, 70, 302, 309, 251, 327, 323, 149, 245, 52, 283, 332, 83, 405, 42, 377, 263, 66, 321, 140, 248, 17, 262, 434, 379, 301, 359, 415, 91, 440, 374, 290, 286, 272, 113, 268, 153, 228, 436, 189, 373, 318, 233, 439, 433, 218, 96, 392, 224, 269, 109, 316, 400, 55, 399, 389, 45, 28, 88, 304, 143, 249, 128, 306, 252, 239, 246, 121, 258, 395, 73, 274, 43, 78, 226, 275, 99, 30, 102, 298, 219, 375, 191, 281, 75, 127, 257, 296, 366, 388, 238, 250, 278, 182, 195, 221, 398, 311, 10, 254, 211, 413, 244, 156, 48, 237, 279, 326, 241, 315, 284, 216, 299, 314, 104, 317, 173, 85, 13, 134, 236, 141, 390, 307, 162, 34, 204, 291, 158, 7, 103, 353, 322, 38, 437, 367, 242, 303, 255, 84, 90, 270, 331, 67, 329], 3: [184, 345, 337, 1, 350, 423, 209, 378, 421, 372, 146, 199, 346, 422, 192, 343, 384, 336, 362, 18, 206, 213, 358, 135, 201, 335, 172, 411, 349, 179, 24, 215, 371, 183, 152, 348, 208, 155, 181, 125, 418, 117, 154, 126, 212, 123, 176], 4: [193, 368, 385, 409, 369, 196, 334, 136, 138, 124, 207, 167, 187, 380, 419, 361, 120, 169, 171, 21, 129, 333, 137], 6: [131, 122, 119], 5: [408, 133, 130, 142, 186, 200], 7: [148, 190], 21: [116]}\n"
     ]
    }
   ],
   "source": [
    "print(train_dict)"
   ]
  },
  {
   "cell_type": "code",
   "execution_count": 25,
   "metadata": {},
   "outputs": [
    {
     "name": "stdout",
     "output_type": "stream",
     "text": [
      "{1: [9, 23, 19, 12, 5, 14, 11, 2, 17, 22, 3, 24, 0, 13, 4, 21, 7], 4: [1, 6, 20], 2: [15, 8, 10], 12: [18], 3: [16]}\n"
     ]
    }
   ],
   "source": [
    "val_dict,v_ep = get_file_lists(val_data_path)\n",
    "print(val_dict)"
   ]
  },
  {
   "cell_type": "code",
   "execution_count": 26,
   "metadata": {},
   "outputs": [
    {
     "data": {
      "text/plain": [
       "228"
      ]
     },
     "execution_count": 26,
     "metadata": {},
     "output_type": "execute_result"
    }
   ],
   "source": [
    "\n",
    "len(train_dict[1])"
   ]
  },
  {
   "cell_type": "code",
   "execution_count": 27,
   "metadata": {},
   "outputs": [
    {
     "data": {
      "text/plain": [
       "17"
      ]
     },
     "execution_count": 27,
     "metadata": {},
     "output_type": "execute_result"
    }
   ],
   "source": [
    "len(val_dict[1])"
   ]
  },
  {
   "cell_type": "code",
   "execution_count": 28,
   "metadata": {},
   "outputs": [
    {
     "data": {
      "text/plain": [
       "dict_keys([2, 14, 1, 3, 4, 6, 5, 7, 21])"
      ]
     },
     "execution_count": 28,
     "metadata": {},
     "output_type": "execute_result"
    }
   ],
   "source": [
    "train_dict.keys()"
   ]
  },
  {
   "cell_type": "code",
   "execution_count": 29,
   "metadata": {},
   "outputs": [
    {
     "data": {
      "text/plain": [
       "21"
      ]
     },
     "execution_count": 29,
     "metadata": {},
     "output_type": "execute_result"
    }
   ],
   "source": [
    "max(train_dict.keys())"
   ]
  },
  {
   "cell_type": "code",
   "execution_count": 35,
   "metadata": {},
   "outputs": [],
   "source": [
    "def dict_len(d):\n",
    "    ret_d = dict()\n",
    "    for i in d.keys():\n",
    "        ret_d[i] = len(d[i])\n",
    "    return ret_d"
   ]
  },
  {
   "cell_type": "code",
   "execution_count": 39,
   "metadata": {},
   "outputs": [
    {
     "data": {
      "text/plain": [
       "[116]"
      ]
     },
     "execution_count": 39,
     "metadata": {},
     "output_type": "execute_result"
    }
   ],
   "source": [
    "train_dict[21]"
   ]
  },
  {
   "cell_type": "code",
   "execution_count": 38,
   "metadata": {},
   "outputs": [
    {
     "name": "stdout",
     "output_type": "stream",
     "text": [
      "{2: 130, 14: 1, 1: 228, 3: 47, 4: 23, 6: 3, 5: 6, 7: 2, 21: 1}\n"
     ]
    },
    {
     "data": {
      "image/png": "[encoded data removed]",
      "text/plain": [
       "<Figure size 432x288 with 1 Axes>"
      ]
     },
     "metadata": {
      "needs_background": "light"
     },
     "output_type": "display_data"
    }
   ],
   "source": [
    "t = dict_len(train_dict)\n",
    "plt.bar(t.keys(),t.values())\n",
    "print(t)"
   ]
  },
  {
   "cell_type": "code",
   "execution_count": 37,
   "metadata": {},
   "outputs": [
    {
     "data": {
      "text/plain": [
       "<BarContainer object of 5 artists>"
      ]
     },
     "execution_count": 37,
     "metadata": {},
     "output_type": "execute_result"
    },
    {
     "data": {
      "image/png": "[encoded data removed]",
      "text/plain": [
       "<Figure size 432x288 with 1 Axes>"
      ]
     },
     "metadata": {
      "needs_background": "light"
     },
     "output_type": "display_data"
    }
   ],
   "source": [
    "v = dict_len(val_dict)\n",
    "plt.bar(v.keys(),v.values())"
   ]
  },
  {
   "cell_type": "code",
   "execution_count": null,
   "metadata": {},
   "outputs": [],
   "source": [
    "plt."
   ]
  }
 ],
 "metadata": {
  "kernelspec": {
   "display_name": "env",
   "language": "python",
   "name": "env"
  },
  "language_info": {
   "codemirror_mode": {
    "name": "ipython",
    "version": 3
   },
   "file_extension": ".py",
   "mimetype": "text/x-python",
   "name": "python",
   "nbconvert_exporter": "python",
   "pygments_lexer": "ipython3",
   "version": "3.7.4"
  }
 },
 "nbformat": 4,
 "nbformat_minor": 4
}
