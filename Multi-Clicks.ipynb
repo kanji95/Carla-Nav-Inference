{
 "cells": [
  {
   "cell_type": "code",
   "execution_count": 1,
   "metadata": {},
   "outputs": [],
   "source": [
    "import os\n",
    "import numpy as np\n",
    "import cv2\n",
    "from matplotlib import pyplot as plt\n",
    "import pandas as pd"
   ]
  },
  {
   "cell_type": "code",
   "execution_count": 2,
   "metadata": {},
   "outputs": [],
   "source": [
    "train_data_path = '/ssd_scratch/cvit/kanishk/carla_data/train/'\n",
    "val_data_path = '/ssd_scratch/cvit/kanishk/carla_data/val/'"
   ]
  },
  {
   "cell_type": "code",
   "execution_count": 3,
   "metadata": {},
   "outputs": [],
   "source": [
    "def get_file_lists(data_path):\n",
    "    episodes = os.listdir(data_path)\n",
    "    episodes = [ x for x in episodes if os.path.isdir(os.path.join(data_path,x))]\n",
    "    counts = dict()\n",
    "    for episode in episodes:\n",
    "        episode = str(episode)\n",
    "        filename = os.path.join(data_path,episode,'target_positions.txt')\n",
    "        a = np.unique(pd.read_csv(filename,header=None).to_numpy(),axis=0)\n",
    "        if a.shape[0] in counts.keys():\n",
    "            counts[a.shape[0]].append(int(episode))\n",
    "        else:\n",
    "            counts[a.shape[0]] = [int(episode)]\n",
    "    return counts,episodes"
   ]
  },
  {
   "cell_type": "code",
   "execution_count": 4,
   "metadata": {},
   "outputs": [],
   "source": [
    "train_dict,t_ep = get_file_lists(train_data_path)"
   ]
  },
  {
   "cell_type": "code",
   "execution_count": 5,
   "metadata": {},
   "outputs": [
    {
     "name": "stdout",
     "output_type": "stream",
     "text": [
      "{3: [218, 315, 424, 413, 442, 473, 124, 336, 219, 434, 33, 458, 308, 245, 427, 481, 20, 196, 418, 464, 347, 93, 211, 283, 486, 476, 462, 122, 200, 474, 178, 8, 368, 290, 235, 461, 460, 429, 120, 272, 65, 119, 397, 149, 35, 311, 482, 326, 198, 468, 153, 259, 176, 276, 206, 391, 445, 113, 496, 207, 250, 478, 467, 471, 284, 229, 217, 81, 239, 182, 213], 1: [381, 123, 170, 151, 419, 303, 323, 380, 84, 312, 19, 55, 72, 399, 360, 431, 242, 392, 186, 58, 369, 51, 371, 400, 162, 344, 32, 453, 9, 199, 164, 137, 79, 16, 362, 114, 168, 183, 246, 257, 126, 23, 205, 394, 49, 341, 5, 452, 45, 227, 7, 302, 212, 87, 94, 320, 89, 107, 41, 17, 361, 133, 396, 351, 129, 439, 224, 83, 373, 223, 154, 363, 147, 86, 355, 208, 348, 50, 295, 428, 99, 144, 61, 187, 493, 364, 353, 430, 2, 356, 190, 3, 338, 495, 106, 6, 497, 221, 422, 232, 82, 177, 253, 130, 376, 185, 47, 156, 451, 12, 244, 143, 188, 214, 398, 63, 145, 172, 111, 256, 432, 352, 25, 80, 31, 36, 139, 440, 421, 125, 29, 287, 152, 174, 286, 37, 325, 354, 294, 102, 234, 292, 148, 160, 251, 180, 329, 209, 202, 267, 150, 331, 438, 382, 109, 455, 301, 15, 73, 46, 291, 270, 1, 288, 138, 38, 337, 333, 281, 104, 166, 278, 118, 377, 384, 173, 26, 30, 375, 42, 305, 201, 105, 135, 420, 222, 269, 274, 393, 335, 237, 195, 378, 48, 121, 304, 454, 56, 494, 289, 258, 163, 395, 433, 116, 366, 247, 59, 349, 157, 53, 472, 167, 358, 255, 0], 5: [415, 489, 387, 423, 443, 342, 480, 407, 359, 402, 43, 97, 18, 262, 404, 386, 448, 449], 2: [98, 425, 70, 134, 215, 261, 88, 370, 321, 11, 249, 101, 463, 52, 307, 39, 446, 316, 339, 34, 275, 285, 310, 103, 435, 197, 280, 13, 268, 203, 330, 334, 324, 169, 192, 204, 181, 21, 159, 117, 44, 165, 243, 189, 319, 140, 146, 313, 309, 485, 241, 236, 54, 226, 254, 436, 75, 447, 365, 266, 78, 4, 77, 90, 296, 252, 273, 136, 492, 345, 142, 115, 298, 300, 179, 350, 238, 318, 314, 327, 231, 91, 60, 279, 248, 228, 233, 282, 216, 128, 277, 112, 71, 265, 171, 40, 184, 155, 240, 306, 175, 343, 299, 85, 374, 108, 67, 57, 69, 437, 210, 127, 158, 230, 293, 28, 220, 470, 10, 441, 74, 194, 110, 96, 357, 131, 297], 6: [225, 475, 483, 389, 405, 412, 390, 193, 403, 161], 4: [66, 260, 68, 322, 426, 271, 488, 385, 372, 444, 490, 388, 264, 477, 499, 410, 466, 191, 263, 328, 406, 459, 383, 457, 379, 22, 92, 367, 141, 491, 76, 417, 469, 465, 346, 100, 62, 95, 487, 450, 479, 416, 408, 317, 409, 411, 24, 498, 484, 132, 64, 456, 332], 14: [340], 7: [27, 14], 8: [401, 414]}\n"
     ]
    }
   ],
   "source": [
    "print(train_dict)"
   ]
  },
  {
   "cell_type": "code",
   "execution_count": 6,
   "metadata": {},
   "outputs": [
    {
     "name": "stdout",
     "output_type": "stream",
     "text": [
      "{1: [19, 33, 32, 9, 20, 23, 41, 3, 6, 43, 4, 36, 35, 15, 26, 30, 28, 10, 24], 2: [11, 16, 13, 17, 21, 2, 8, 27, 47, 22, 12, 25, 29, 18, 48, 14, 0], 4: [39, 5, 46, 40], 12: [34], 5: [49, 44, 37, 38], 3: [45, 7, 31, 1], 6: [42]}\n"
     ]
    }
   ],
   "source": [
    "val_dict,v_ep = get_file_lists(val_data_path)\n",
    "print(val_dict)"
   ]
  },
  {
   "cell_type": "code",
   "execution_count": 7,
   "metadata": {},
   "outputs": [
    {
     "data": {
      "text/plain": [
       "216"
      ]
     },
     "execution_count": 7,
     "metadata": {},
     "output_type": "execute_result"
    }
   ],
   "source": [
    "\n",
    "len(train_dict[1])"
   ]
  },
  {
   "cell_type": "code",
   "execution_count": 8,
   "metadata": {},
   "outputs": [
    {
     "data": {
      "text/plain": [
       "19"
      ]
     },
     "execution_count": 8,
     "metadata": {},
     "output_type": "execute_result"
    }
   ],
   "source": [
    "len(val_dict[1])"
   ]
  },
  {
   "cell_type": "code",
   "execution_count": 9,
   "metadata": {},
   "outputs": [
    {
     "data": {
      "text/plain": [
       "dict_keys([3, 1, 5, 2, 6, 4, 14, 7, 8])"
      ]
     },
     "execution_count": 9,
     "metadata": {},
     "output_type": "execute_result"
    }
   ],
   "source": [
    "train_dict.keys()"
   ]
  },
  {
   "cell_type": "code",
   "execution_count": 10,
   "metadata": {},
   "outputs": [
    {
     "data": {
      "text/plain": [
       "14"
      ]
     },
     "execution_count": 10,
     "metadata": {},
     "output_type": "execute_result"
    }
   ],
   "source": [
    "max(train_dict.keys())"
   ]
  },
  {
   "cell_type": "code",
   "execution_count": 11,
   "metadata": {},
   "outputs": [],
   "source": [
    "def dict_len(d):\n",
    "    ret_d = dict()\n",
    "    for i in d.keys():\n",
    "        ret_d[i] = len(d[i])\n",
    "    return ret_d"
   ]
  },
  {
   "cell_type": "code",
   "execution_count": 13,
   "metadata": {},
   "outputs": [
    {
     "name": "stdout",
     "output_type": "stream",
     "text": [
      "{3: 71, 1: 216, 5: 18, 2: 127, 6: 10, 4: 53, 14: 1, 7: 2, 8: 2}\n"
     ]
    },
    {
     "data": {
      "image/png": "[encoded data removed]",
      "text/plain": [
       "<Figure size 432x288 with 1 Axes>"
      ]
     },
     "metadata": {
      "needs_background": "light"
     },
     "output_type": "display_data"
    }
   ],
   "source": [
    "t = dict_len(train_dict)\n",
    "plt.bar(t.keys(),t.values())\n",
    "print(t)"
   ]
  },
  {
   "cell_type": "code",
   "execution_count": 15,
   "metadata": {},
   "outputs": [
    {
     "name": "stdout",
     "output_type": "stream",
     "text": [
      "{1: 19, 2: 17, 4: 4, 12: 1, 5: 4, 3: 4, 6: 1}\n"
     ]
    },
    {
     "data": {
      "image/png": "[encoded data removed]",
      "text/plain": [
       "<Figure size 432x288 with 1 Axes>"
      ]
     },
     "metadata": {
      "needs_background": "light"
     },
     "output_type": "display_data"
    }
   ],
   "source": [
    "v = dict_len(val_dict)\n",
    "plt.bar(v.keys(),v.values())\n",
    "print(v)"
   ]
  },
  {
   "cell_type": "code",
   "execution_count": 26,
   "metadata": {},
   "outputs": [
    {
     "name": "stdout",
     "output_type": "stream",
     "text": [
      "[34, 49, 44, 37, 38, 42]\n",
      "['34', '49', '44', '37', '38', '42']\n"
     ]
    }
   ],
   "source": [
    "ids = []\n",
    "for k in val_dict:\n",
    "    if k >=5:\n",
    "        ids.extend(val_dict[k])\n",
    "print(ids)\n",
    "\n",
    "for i, x in enumerate(ids):\n",
    "    ids[i] = str(x)\n",
    "print(ids)"
   ]
  },
  {
   "cell_type": "code",
   "execution_count": null,
   "metadata": {},
   "outputs": [],
   "source": []
  }
 ],
 "metadata": {
  "kernelspec": {
   "display_name": "Python 3",
   "language": "python",
   "name": "python3"
  },
  "language_info": {
   "codemirror_mode": {
    "name": "ipython",
    "version": 3
   },
   "file_extension": ".py",
   "mimetype": "text/x-python",
   "name": "python",
   "nbconvert_exporter": "python",
   "pygments_lexer": "ipython3",
   "version": "3.8.5"
  }
 },
 "nbformat": 4,
 "nbformat_minor": 4
}
