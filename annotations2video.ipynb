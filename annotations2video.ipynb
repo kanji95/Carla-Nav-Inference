{
 "cells": [
  {
   "cell_type": "code",
   "execution_count": null,
   "id": "4cee470c",
   "metadata": {},
   "outputs": [],
   "source": [
    "import os\n",
    "import numpy as np\n",
    "import random\n",
    "import string\n",
    "from matplotlib import pyplot as plt\n",
    "import matplotlib"
   ]
  },
  {
   "cell_type": "code",
   "execution_count": null,
   "id": "eedfb0ac",
   "metadata": {},
   "outputs": [],
   "source": [
    "import cv2"
   ]
  },
  {
   "cell_type": "code",
   "execution_count": 83,
   "id": "7d1df420",
   "metadata": {},
   "outputs": [],
   "source": [
    "def make_timeline(past):\n",
    "    vals = np.array(past)\n",
    "    vals[:, 2] = 1\n",
    "\n",
    "    # print(np.vstack([[vals[0]], vals[np.sum(vals != vals[0], axis=1).astype(bool)]]))\n",
    "\n",
    "    vals = np.vstack([[vals[0]], vals[np.sum(vals != vals[0], axis=1).astype(bool)]])\n",
    "\n",
    "    # print(vals)\n",
    "\n",
    "    x = vals[:, 0]\n",
    "    y = vals[:, 1]\n",
    "    z = vals[:, 2]\n",
    "\n",
    "    first_x = 0\n",
    "    end_x = min(int(x.shape[0]/5)+1,x.shape[0]-1)\n",
    "\n",
    "    line_rot = np.arctan((y[end_x]-y[first_x]) /\n",
    "                         (x[end_x]-x[first_x]+1e-9)) * 180/np.pi\n",
    "\n",
    "\n",
    "    if x[end_x]-x[first_x] < 0:\n",
    "        line_rot += 180\n",
    "    elif x[end_x] == x[first_x] and y[first_x]-y[end_x] < 0:\n",
    "        line_rot += 180\n",
    "\n",
    "    rot = matplotlib.transforms.Affine2D().rotate_deg(90-line_rot)\n",
    "\n",
    "    fig = plt.figure()\n",
    "\n",
    "    points = vals[:, :3]\n",
    "    points[:, 2] = 1\n",
    "\n",
    "    temp_out = rot.transform(points[:, :2])\n",
    "\n",
    "    x = -temp_out[:, 0]\n",
    "    y = temp_out[:, 1]\n",
    "\n",
    "    plt.plot(x, y, color='black')\n",
    "\n",
    "    y_min = np.min([y[0]-20, np.min(y)-10])\n",
    "    y_max = np.max([y[0]+80, np.max(y)+10])\n",
    "\n",
    "    x_size = np.max([50, np.max(x)-x[0]+10, x[0]-np.min(x)+10])\n",
    "    x_min = x[0]-x_size\n",
    "    x_max = x[0]+x_size\n",
    "\n",
    "    plt.xlim(x_min, x_max)\n",
    "    plt.ylim(y_min, y_max)\n",
    "    plt.gca().set_aspect('equal')\n",
    "    plt.axis('off')\n",
    "\n",
    "    fig.canvas.draw()\n",
    "    timeline = np.frombuffer(fig.canvas.tostring_rgb(), dtype=np.uint8)\n",
    "    timeline = timeline.reshape(fig.canvas.get_width_height()[::-1]+(3,))\n",
    "    plt.close()\n",
    "    timeline = timeline[:, :, 0].astype(np.float32)/255\n",
    "    timeline = 1-timeline\n",
    "    return timeline"
   ]
  },
  {
   "cell_type": "code",
   "execution_count": 177,
   "id": "16298819",
   "metadata": {},
   "outputs": [],
   "source": [
    "def world_to_pixel(K, rgb_matrix, destination,  curr_position):\n",
    "\n",
    "    point_3d = np.ones((4, destination.shape[1]))\n",
    "    point_3d[0] = destination[0]\n",
    "    point_3d[1] = destination[1]\n",
    "    point_3d[2] = curr_position[2]\n",
    "\n",
    "    # point_3d = np.array([destination[0], destination[1], curr_position[2], 1])\n",
    "    point_3d = np.round(point_3d, decimals=2)\n",
    "    # print(\"3D world coordinate: \", point_3d)\n",
    "\n",
    "    cam_coords = rgb_matrix @ point_3d\n",
    "    # cam_coords = rgb_matrix @ point_3d[:, None]\n",
    "    cam_coords = np.array([cam_coords[1], cam_coords[2]*-1, cam_coords[0]])\n",
    "\n",
    "    cam_coords = cam_coords[:, cam_coords[2, :] > 0]\n",
    "    points_2d = np.dot(K, cam_coords)\n",
    "\n",
    "    points_2d = np.array([\n",
    "        points_2d[0, :] / points_2d[2, :],\n",
    "        points_2d[1, :] / points_2d[2, :],\n",
    "        points_2d[2, :]]\n",
    "    )\n",
    "    points_2d = points_2d.reshape(3, -1)\n",
    "    points_2d = np.round(points_2d, decimals=2)\n",
    "    return points_2d\n"
   ]
  },
  {
   "cell_type": "code",
   "execution_count": 178,
   "id": "8bb27920",
   "metadata": {},
   "outputs": [],
   "source": [
    "def gen_mask(K,inverse_matrix,target_coordinate,float_coordinate,size):\n",
    "    w,h = size\n",
    "    im = np.zeros((size[1],size[0]))\n",
    "\n",
    "    x_offsets = np.linspace(-2, 2, num=150)\n",
    "    y_offsets = np.linspace(-2, 2, num=150)\n",
    "    X, Y = np.meshgrid(x_offsets, y_offsets)\n",
    "\n",
    "    mesh_mask = np.where(X**2+Y**2<=4)\n",
    "\n",
    "    mesh = np.dstack([X[mesh_mask], Y[mesh_mask]])\n",
    "\n",
    "    mesh = mesh.reshape(-1, 2)\n",
    "\n",
    "    mesh = np.hstack([mesh, np.zeros((mesh.shape[0], 1))]).T\n",
    "\n",
    "    annotations = world_to_pixel(\n",
    "        K, inverse_matrix, target_coordinate.reshape(3, 1)+mesh, float_coordinate).T\n",
    "\n",
    "    for i in range(annotations.shape[0]):\n",
    "        x = round(annotations[i, 0])\n",
    "        y = round(annotations[i, 1])\n",
    "        if x < 0 or x >= w or y < 0 or y >= h:\n",
    "            continue\n",
    "        # import pdb; pdb.set_trace()\n",
    "        im = cv2.circle(im, (int(x), int(y)), 4,\n",
    "                        (255), thickness=-1)\n",
    "    return im"
   ]
  },
  {
   "cell_type": "code",
   "execution_count": 179,
   "id": "9e3b74e0",
   "metadata": {},
   "outputs": [],
   "source": [
    "def to_video(images_folder,annotations_folder,positions_file,video_file,fps=30):\n",
    "    try:\n",
    "        frames = sorted(os.listdir(images_folder))\n",
    "    except Exception as e:\n",
    "        print(e)\n",
    "        return\n",
    "    \n",
    "    if len(frames)==0:\n",
    "        return\n",
    "\n",
    "    past = np.loadtxt(positions_file,delimiter=',').tolist()\n",
    "    \n",
    "    frame_count = 0\n",
    "    im = cv2.imread(os.path.join(images_folder,frames[0]))\n",
    "    size = (im.shape[1],im.shape[0])\n",
    "\n",
    "    kernel = np.ones((10, 10), np.uint8)\n",
    "\n",
    "    idx = 0\n",
    "\n",
    "    h_offset = 10\n",
    "    v_offset = 10\n",
    "    context_size = (320,240)\n",
    "\n",
    "\n",
    "    try:\n",
    "        result = cv2.VideoWriter(video_file,cv2.VideoWriter_fourcc(*'MJPG'),fps,size)\n",
    "        for frame_count, frame in enumerate(frames):\n",
    "            print('\\r'+os.path.join(images_folder,frame),end='')\n",
    "            \n",
    "            im = cv2.imread(os.path.join(images_folder,frame))\n",
    "            im = cv2.resize(im,size)\n",
    "            mask = cv2.imread(os.path.join(annotations_folder,frame))\n",
    "            mask = cv2.cvtColor(cv2.resize(mask,size),cv2.COLOR_BGR2GRAY)\n",
    "            \n",
    "            # context = cv2.imread(os.path.join(context_folder,frame))\n",
    "            # context = cv2.dilate(context, kernel, iterations=1)\n",
    "\n",
    "            context = make_timeline(past[:idx+1])*255\n",
    "            context = cv2.cvtColor(cv2.resize(context,context_size),cv2.COLOR_GRAY2RGB)\n",
    "            # plt.imshow(context,cmap='gray')\n",
    "            # plt.show()\n",
    "\n",
    "            im[mask>0,:] = 0\n",
    "            im[mask>0,1] = 255\n",
    "\n",
    "            im[v_offset:v_offset+context.shape[0],h_offset:h_offset+context.shape[1],:] = context\n",
    "            \n",
    "            \n",
    "            if frame_count == 0:\n",
    "                plt.imshow(cv2.cvtColor(im,cv2.COLOR_RGB2BGR))\n",
    "                plt.show()\n",
    "            result.write(im)\n",
    "            \n",
    "            cv2.imshow('frames', im)\n",
    "\n",
    "            idx += 1\n",
    "\n",
    "            # break\n",
    "            \n",
    "            if cv2.waitKey(1) & 0xFF == ord('q'):\n",
    "                break\n",
    "    except Exception as e:\n",
    "        print(e)\n",
    "        raise(e)\n",
    "    finally:\n",
    "        result.release()\n",
    "        cv2.destroyAllWindows()"
   ]
  },
  {
   "cell_type": "code",
   "execution_count": null,
   "id": "9e3b74e0",
   "metadata": {},
   "outputs": [],
   "source": [
    "def to_video_nomask(images_folder,inverse_mat_folder,target_file,positions_file,intrinsic_file,video_file,fps=30):\n",
    "    try:\n",
    "        frames = sorted(os.listdir(images_folder))\n",
    "    except Exception as e:\n",
    "        print(e)\n",
    "        return\n",
    "    \n",
    "    if len(frames)==0:\n",
    "        return\n",
    "\n",
    "    past = np.loadtxt(positions_file,delimiter=',').tolist()\n",
    "    target_coordinates = np.loadtxt(positions_file,delimiter=',')\n",
    "    float_coordinates = np.array(past)\n",
    "\n",
    "    K = np.load(intrinsic_file)\n",
    "\n",
    "\n",
    "    \n",
    "    frame_count = 0\n",
    "    im = cv2.imread(os.path.join(images_folder,frames[0]))\n",
    "    size = (im.shape[1],im.shape[0])\n",
    "\n",
    "    kernel = np.ones((10, 10), np.uint8)\n",
    "\n",
    "    idx = 0\n",
    "\n",
    "    h_offset = 10\n",
    "    v_offset = 10\n",
    "    context_size = (320,240)\n",
    "\n",
    "\n",
    "    try:\n",
    "        result = cv2.VideoWriter(video_file,cv2.VideoWriter_fourcc(*'MJPG'),fps,size)\n",
    "        for frame_count, frame in enumerate(frames):\n",
    "            print('\\r'+os.path.join(images_folder,frame),end='')\n",
    "            \n",
    "            im = cv2.imread(os.path.join(images_folder,frame))\n",
    "            im = cv2.resize(im,size)\n",
    "\n",
    "            inverse_matrix = np.load(os.path.join(inverse_mat_folder,  frame+'.npy'))\n",
    "\n",
    "            mask = gen_mask(K,inverse_matrix,target_coordinates[idx],float_coordinates[idx],size)\n",
    "\n",
    "            mask = cv2.cvtColor(cv2.resize(mask,size),cv2.COLOR_BGR2GRAY)\n",
    "\n",
    "            print(mask)\n",
    "            \n",
    "            # context = cv2.imread(os.path.join(context_folder,frame))\n",
    "            # context = cv2.dilate(context, kernel, iterations=1)\n",
    "\n",
    "            context = make_timeline(past[:idx+1])*255\n",
    "            context = cv2.cvtColor(cv2.resize(context,context_size),cv2.COLOR_GRAY2RGB)\n",
    "            # plt.imshow(context,cmap='gray')\n",
    "            # plt.show()\n",
    "\n",
    "            im[mask>0,:] = 0\n",
    "            im[mask>0,1] = 255\n",
    "\n",
    "            im[v_offset:v_offset+context.shape[0],h_offset:h_offset+context.shape[1],:] = context\n",
    "            \n",
    "            \n",
    "            if frame_count == 0:\n",
    "                plt.imshow(cv2.cvtColor(im,cv2.COLOR_RGB2BGR))\n",
    "                plt.show()\n",
    "            result.write(im)\n",
    "            \n",
    "            cv2.imshow('frames', im)\n",
    "\n",
    "            idx += 1\n",
    "\n",
    "            # break\n",
    "            \n",
    "            if cv2.waitKey(1) & 0xFF == ord('q'):\n",
    "                break\n",
    "    except Exception as e:\n",
    "        print(e)\n",
    "        raise(e)\n",
    "    finally:\n",
    "        result.release()\n",
    "        cv2.destroyAllWindows()"
   ]
  },
  {
   "cell_type": "code",
   "execution_count": 163,
   "id": "1ee3b2bd",
   "metadata": {},
   "outputs": [],
   "source": [
    "base_folder = 'E:/icra video/all'"
   ]
  },
  {
   "cell_type": "code",
   "execution_count": 164,
   "id": "8d4ab5c6",
   "metadata": {},
   "outputs": [],
   "source": [
    "folders = [ str(x) for x in sorted([ int(x) for x in os.listdir(base_folder)])]\n",
    "# 30 2\n",
    "# folders = ['2']\n",
    "# folders"
   ]
  },
  {
   "cell_type": "code",
   "execution_count": 165,
   "id": "79a9aada",
   "metadata": {},
   "outputs": [
    {
     "name": "stdout",
     "output_type": "stream",
     "text": [
      "1 already processed\n",
      "5 already processed\n",
      "9 already processed\n",
      "11 already processed\n",
      "13 already processed\n",
      "16 already processed\n",
      "20 already processed\n",
      "27 already processed\n",
      "29 already processed\n",
      "30 already processed\n",
      "31 already processed\n",
      "34 already processed\n",
      "56 already processed\n",
      "57 already processed\n",
      "60 already processed\n"
     ]
    }
   ],
   "source": [
    "for folder in folders:\n",
    "    if 'video.mp4' in os.listdir(os.path.join(base_folder,folder)):\n",
    "        print(f'{folder} already processed')\n",
    "        continue\n",
    "\n",
    "    if 'masks' not in os.listdir(os.path.join(base_folder,folder)):\n",
    "        print(f'{folder} doesn\\'t have masks')\n",
    "        continue\n",
    "\n",
    "    if len(os.listdir(os.path.join(base_folder,folder,'images'))) != len(os.listdir(os.path.join(base_folder,folder,'masks'))):\n",
    "        print(f'{folder} incomplete masks')\n",
    "        continue\n",
    "\n",
    "\n",
    "    with open(os.path.join(base_folder,folder,'command.txt')) as f:\n",
    "        lines = f.readlines()\n",
    "        print(lines)\n",
    "    to_video(os.path.join(base_folder,folder,'images'),\n",
    "             os.path.join(base_folder,folder,'masks'),\n",
    "             os.path.join(base_folder,folder,'vehicle_positions.txt'),\n",
    "             os.path.join(base_folder,folder,'video.mp4'),\n",
    "            fps=10)"
   ]
  },
  {
   "cell_type": "code",
   "execution_count": 157,
   "id": "54916e4e",
   "metadata": {},
   "outputs": [],
   "source": [
    "def gradient_vertical(height,width,color1,color2,gamma=2):\n",
    "    arr = np.tile(np.expand_dims(np.arange(height),axis=(1,2)),(1,width,3))\n",
    "    col1_im = color1*np.ones((height,width,3))\n",
    "    col2_im = color2*np.ones((height,width,3))\n",
    "    \n",
    "    col1_im = (col1_im)**(1/gamma)\n",
    "    col2_im = (col2_im)**(1/gamma)\n",
    "    \n",
    "    arr = (arr*col1_im + (height-arr)*col2_im)/(height)\n",
    "    arr = arr**gamma\n",
    "    \n",
    "    arr = arr.astype(np.uint8)\n",
    "    \n",
    "    return arr\n"
   ]
  },
  {
   "cell_type": "code",
   "execution_count": null,
   "id": "8050f10f",
   "metadata": {},
   "outputs": [],
   "source": [
    "for folder in folders:\n",
    "    if 'video.mp4' in os.listdir(os.path.join(base_folder,folder)):\n",
    "        print(f'{folder} already processed')\n",
    "        continue\n",
    "\n",
    "\n",
    "    if len(os.listdir(os.path.join(base_folder,folder,'images'))) != len(os.listdir(os.path.join(base_folder,folder,'masks'))):\n",
    "        print(f'{folder} incomplete masks')\n",
    "        continue\n",
    "\n",
    "\n",
    "    with open(os.path.join(base_folder,folder,'command.txt')) as f:\n",
    "        lines = f.readlines()\n",
    "        print(lines)\n",
    "    to_video_nomask(os.path.join(base_folder,folder,'images'),\n",
    "             os.path.join(base_folder,folder,'masks'),\n",
    "             os.path.join(base_folder,folder,'vehicle_positions.txt'),\n",
    "             os.path.join(base_folder,folder,'video.mp4'),\n",
    "            fps=10)"
   ]
  },
  {
   "cell_type": "code",
   "execution_count": 159,
   "id": "25615911",
   "metadata": {},
   "outputs": [
    {
     "data": {
      "text/plain": [
       "<matplotlib.image.AxesImage at 0x2b11d2ac670>"
      ]
     },
     "execution_count": 159,
     "metadata": {},
     "output_type": "execute_result"
    },
    {
     "data": {
      "image/png": "[encoded data removed]",
      "text/plain": [
       "<Figure size 432x288 with 1 Axes>"
      ]
     },
     "metadata": {
      "needs_background": "light"
     },
     "output_type": "display_data"
    }
   ],
   "source": [
    "plt.imshow(gradient_vertical(100,20,np.array([0x1C,0xEB,0xA9]),np.array([255,255,255]),1.5))"
   ]
  },
  {
   "cell_type": "code",
   "execution_count": 174,
   "id": "73b6c7bb",
   "metadata": {},
   "outputs": [],
   "source": [
    "x_offsets = np.linspace(-2, 2, num=150)\n",
    "y_offsets = np.linspace(-2, 2, num=150)\n",
    "X, Y = np.meshgrid(x_offsets, y_offsets)\n",
    "\n",
    "mesh_mask = np.where(X**2+Y**2<=4)\n",
    "\n",
    "mesh = np.dstack([X[mesh_mask], Y[mesh_mask]])\n",
    "\n",
    "mesh = mesh.reshape(-1, 2)\n",
    "\n",
    "mesh = np.hstack([mesh, np.zeros((mesh.shape[0], 1))]).T"
   ]
  },
  {
   "cell_type": "code",
   "execution_count": 175,
   "id": "73b9ee1b",
   "metadata": {},
   "outputs": [
    {
     "data": {
      "text/plain": [
       "array([[-0.30872483, -0.28187919, -0.25503356, ...,  0.25503356,\n",
       "         0.28187919,  0.30872483],\n",
       "       [-1.97315436, -1.97315436, -1.97315436, ...,  1.97315436,\n",
       "         1.97315436,  1.97315436],\n",
       "       [ 0.        ,  0.        ,  0.        , ...,  0.        ,\n",
       "         0.        ,  0.        ]])"
      ]
     },
     "execution_count": 175,
     "metadata": {},
     "output_type": "execute_result"
    }
   ],
   "source": [
    "mesh"
   ]
  },
  {
   "cell_type": "code",
   "execution_count": 176,
   "id": "85a554c6",
   "metadata": {},
   "outputs": [
    {
     "data": {
      "text/plain": [
       "(3, 17420)"
      ]
     },
     "execution_count": 176,
     "metadata": {},
     "output_type": "execute_result"
    }
   ],
   "source": [
    "mesh.shape"
   ]
  },
  {
   "cell_type": "code",
   "execution_count": null,
   "id": "c64ec22d",
   "metadata": {},
   "outputs": [],
   "source": [
    "22500"
   ]
  }
 ],
 "metadata": {
  "kernelspec": {
   "display_name": "Python 3.8.10 64-bit (system)",
   "language": "python",
   "name": "python3"
  },
  "language_info": {
   "codemirror_mode": {
    "name": "ipython",
    "version": 3
   },
   "file_extension": ".py",
   "mimetype": "text/x-python",
   "name": "python",
   "nbconvert_exporter": "python",
   "pygments_lexer": "ipython3",
   "version": "3.8.10"
  },
  "vscode": {
   "interpreter": {
    "hash": "e75023384a4b4222d033a93ad85a4da35ee09fc63006b04048cedc0bfc19215b"
   }
  }
 },
 "nbformat": 4,
 "nbformat_minor": 5
}
