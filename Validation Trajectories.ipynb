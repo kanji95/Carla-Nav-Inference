{
 "cells": [
  {
   "cell_type": "code",
   "execution_count": 35,
   "metadata": {},
   "outputs": [],
   "source": [
    "import os\n",
    "import similaritymeasures\n",
    "import numpy as np\n",
    "import cv2\n",
    "from matplotlib import pyplot as plt"
   ]
  },
  {
   "cell_type": "code",
   "execution_count": 61,
   "metadata": {},
   "outputs": [],
   "source": [
    "def get_scores(val_data_path, val_run_path, save_loc):\n",
    "    os.makedirs(save_loc,exist_ok=True)\n",
    "    frechet_dists = []\n",
    "    euclidean_dists = []\n",
    "    for episode in range(25):\n",
    "        episode = str(episode)\n",
    "        filename = os.path.join(val_run_path,episode,'vehicle_positions.txt')\n",
    "        with open(filename,'r') as f:\n",
    "            positions = f.readlines()\n",
    "        run_traj = np.array([ [ float(t.strip()) for t in x.strip().split(',')] for x in positions])\n",
    "\n",
    "        filename = os.path.join(val_data_path,episode,'vehicle_positions.txt')\n",
    "        with open(filename,'r') as f:\n",
    "            positions = f.readlines()\n",
    "        data_traj = np.array([ [ float(t.strip()) for t in x.strip().split(',')] for x in positions])\n",
    "\n",
    "        filename = os.path.join(val_run_path,episode,'command.txt')\n",
    "        with open(filename,'r') as f:\n",
    "            command = f.readline().strip()\n",
    "\n",
    "        plt.plot(data_traj[:,0],data_traj[:,1],label='Ground Truth')\n",
    "        plt.plot(run_traj[:,0],run_traj[:,1],label='Inference on Prediction')\n",
    "        plt.scatter(data_traj[-1,0],data_traj[-1,1],s=100,label='Ground Truth - End Point')\n",
    "        plt.scatter(run_traj[-1,0],run_traj[-1,1],s=100,label='Inference - End Point')\n",
    "        plt.scatter(data_traj[0,0],data_traj[0,1],s=100,label='Starting Point')\n",
    "\n",
    "        x_min = np.min(np.hstack([data_traj[:,0],run_traj[:,0]]))\n",
    "        y_min = np.min(np.hstack([data_traj[:,1],run_traj[:,1]]))\n",
    "\n",
    "        x_max = np.max(np.hstack([data_traj[:,0],run_traj[:,0]]))\n",
    "        y_max = np.max(np.hstack([data_traj[:,1],run_traj[:,1]]))\n",
    "\n",
    "        frechet_dists.append(similaritymeasures.frechet_dist(run_traj,data_traj))\n",
    "\n",
    "        euclidean_dists.append(similaritymeasures.distance.euclidean(data_traj[-1,:],run_traj[-1,:]))\n",
    "\n",
    "        plt.xlim(x_min-5, x_max+5)\n",
    "        plt.ylim(y_min-5, y_max+5)\n",
    "        plt.gca().invert_xaxis()\n",
    "        plt.axis('off')\n",
    "        plt.title(command)\n",
    "\n",
    "        plt.legend()\n",
    "        print(f'Episode {episode}: {command}')\n",
    "        print(f'Frechet Distance: {frechet_dists[-1]}')\n",
    "        print(f'Euclidean Distance between End Points: {euclidean_dists[-1]}')\n",
    "    #     print(f'Curve Length Measure: {cl_measures[-1]}')\n",
    "        plt.savefig(os.path.join(save_loc,episode)+'.png')    \n",
    "#         plt.show()\n",
    "    return frechet_dists, euclidean_dists"
   ]
  },
  {
   "cell_type": "code",
   "execution_count": null,
   "metadata": {},
   "outputs": [
    {
     "name": "stdout",
     "output_type": "stream",
     "text": [
      "Episode 0: park near the bus stand\n",
      "Frechet Distance: 8.067973423453093\n",
      "Euclidean Distance between End Points: 8.067973423453093\n",
      "Episode 1: stop near the tallest building\n",
      "Frechet Distance: 53.00581683992712\n",
      "Euclidean Distance between End Points: 53.005816839927114\n",
      "Episode 2: Take a right from the intersection\n",
      "Frechet Distance: 17.871254623761335\n",
      "Euclidean Distance between End Points: 17.871254623761335\n",
      "Episode 3: go right from the corner\n",
      "Frechet Distance: 5.424230403686319\n",
      "Euclidean Distance between End Points: 5.424230403686319\n",
      "Episode 4: Drive towards the bus stop\n",
      "Frechet Distance: 5.883544924222516\n",
      "Euclidean Distance between End Points: 5.883544924222516\n",
      "Episode 5: take a left from the intersection\n",
      "Frechet Distance: 4.207446052814155\n",
      "Euclidean Distance between End Points: 4.207446052814155\n"
     ]
    }
   ],
   "source": [
    "val_data_path = '/ssd_scratch/cvit/varunc/carla_data/val/'\n",
    "val_run_path = '/ssd_scratch/cvit/varunc/val_runs/'\n",
    "save_loc = '../trajectories/'\n",
    "\n",
    "f,e = get_scores(val_data_path, val_run_path, save_loc)"
   ]
  },
  {
   "cell_type": "code",
   "execution_count": null,
   "metadata": {},
   "outputs": [],
   "source": [
    "val_data_path = '/ssd_scratch/cvit/varunc/carla_data/val/'\n",
    "val_run_path = '/ssd_scratch/cvit/varunc/val_run_baseline/'\n",
    "save_loc = '../trajectories_baseline/'\n",
    "\n",
    "f_bl,e_bl = get_scores(val_data_path, val_run_path, save_loc)"
   ]
  },
  {
   "cell_type": "code",
   "execution_count": 40,
   "metadata": {},
   "outputs": [],
   "source": [
    "import seaborn as sns"
   ]
  },
  {
   "cell_type": "code",
   "execution_count": 41,
   "metadata": {},
   "outputs": [],
   "source": [
    "import pandas as pd"
   ]
  },
  {
   "cell_type": "code",
   "execution_count": 53,
   "metadata": {},
   "outputs": [],
   "source": [
    "f_df = pd.DataFrame({'Cross Attention':f,'Concatenation':f_bl})\n",
    "e_df = pd.DataFrame({'Cross Attention':e,'Concatenation':e_bl})"
   ]
  },
  {
   "cell_type": "code",
   "execution_count": 58,
   "metadata": {},
   "outputs": [
    {
     "data": {
      "text/plain": [
       "Text(0.5, 1.0, 'Freschet Distance')"
      ]
     },
     "execution_count": 58,
     "metadata": {},
     "output_type": "execute_result"
    },
    {
     "data": {
      "image/png": "[encoded data removed]",
      "text/plain": [
       "<Figure size 432x288 with 1 Axes>"
      ]
     },
     "metadata": {
      "needs_background": "light"
     },
     "output_type": "display_data"
    }
   ],
   "source": [
    "g = sns.boxplot(data=f_df)\n",
    "g.set_yscale(\"log\")\n",
    "plt.title('Freschet Distance')"
   ]
  },
  {
   "cell_type": "code",
   "execution_count": 57,
   "metadata": {},
   "outputs": [
    {
     "data": {
      "text/plain": [
       "Text(0.5, 1.0, 'Euclidean Distance Between End Points')"
      ]
     },
     "execution_count": 57,
     "metadata": {},
     "output_type": "execute_result"
    },
    {
     "data": {
      "image/png": "[encoded data removed]",
      "text/plain": [
       "<Figure size 432x288 with 1 Axes>"
      ]
     },
     "metadata": {
      "needs_background": "light"
     },
     "output_type": "display_data"
    }
   ],
   "source": [
    "g = sns.boxplot(data=e_df)\n",
    "g.set_yscale(\"log\")\n",
    "plt.title('Euclidean Distance Between End Points')"
   ]
  },
  {
   "cell_type": "code",
   "execution_count": null,
   "metadata": {},
   "outputs": [],
   "source": []
  }
 ],
 "metadata": {
  "kernelspec": {
   "display_name": "env",
   "language": "python",
   "name": "env"
  },
  "language_info": {
   "codemirror_mode": {
    "name": "ipython",
    "version": 3
   },
   "file_extension": ".py",
   "mimetype": "text/x-python",
   "name": "python",
   "nbconvert_exporter": "python",
   "pygments_lexer": "ipython3",
   "version": "3.7.4"
  }
 },
 "nbformat": 4,
 "nbformat_minor": 4
}
